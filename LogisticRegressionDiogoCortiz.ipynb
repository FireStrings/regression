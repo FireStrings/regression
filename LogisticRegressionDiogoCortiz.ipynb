{
 "cells": [
  {
   "cell_type": "code",
   "execution_count": null,
   "metadata": {},
   "outputs": [],
   "source": [
    "import torch\n",
    "import torch.nn as nn\n",
    "import numpy as np\n",
    "import matplotlib.pyplot as plt"
   ]
  },
  {
   "cell_type": "code",
   "execution_count": null,
   "metadata": {},
   "outputs": [],
   "source": [
    "# PREPARAÇÃO DA DATA\n",
    "x_numpy = np.array([5,7,2,9,4,10,9,4,6,1])\n",
    "y_numpy = np.array([1,1,0,1,0,1,1,0,1,0])"
   ]
  },
  {
   "cell_type": "code",
   "execution_count": null,
   "metadata": {},
   "outputs": [],
   "source": [
    "x = torch.from_numpy(x_numpy.astype(np.float32))\n",
    "y = torch.from_numpy(y_numpy.astype(np.float32))\n",
    "\n",
    "y = y.view(y.shape[0], 1)\n",
    "x = x.view(x.shape[0], 1)\n",
    "\n",
    "print(x.shape)\n",
    "print(y.shape)"
   ]
  },
  {
   "cell_type": "code",
   "execution_count": null,
   "metadata": {},
   "outputs": [],
   "source": [
    "plt.plot(x_numpy, y_numpy, 'ro')"
   ]
  },
  {
   "cell_type": "code",
   "execution_count": null,
   "metadata": {},
   "outputs": [],
   "source": [
    "# CLASS DE REGRESSÃO LOGÍSTICA\n",
    "\n",
    "class RegressaoLogistica(nn.Module):\n",
    "  def __init__(self, n_input, n_output):\n",
    "    super(RegressaoLogistica, self).__init__()\n",
    "    self.Linear = nn.Linear(n_input, 1)\n",
    "\n",
    "  def forward(self, x):\n",
    "    y_hat = torch.sigmoid(self.Linear(x))\n",
    "    return y_hat"
   ]
  },
  {
   "cell_type": "code",
   "execution_count": null,
   "metadata": {},
   "outputs": [],
   "source": [
    "\n",
    "# DEFINICIÇÃO DE MODELO\n",
    "input_size = 1\n",
    "output_size = 1\n",
    "model = RegressaoLogistica(1,1)\n",
    "\n",
    "# DEFINIÇÃO DA FUNÇAO DE CUSTO E OTIMIZADOR\n",
    "learning_rate = 0.01\n",
    "criterion = nn.BCELoss()\n",
    "optimizer = torch.optim.SGD(model.parameters(), lr=learning_rate)\n",
    "print (model.parameters())"
   ]
  },
  {
   "cell_type": "code",
   "execution_count": null,
   "metadata": {},
   "outputs": [],
   "source": [
    "# LOOP DE TREINAMENTO\n",
    "num_epochs = 2000\n",
    "contador_custo = []\n",
    "for epoch in range(num_epochs):\n",
    "  #forward pass and loos\n",
    "  y_hat = model(x)\n",
    "  loss = criterion(y_hat, y)\n",
    "  contador_custo.append(loss)\n",
    "  #print(y_hat)\n",
    "\n",
    "  \n",
    "  #backward pass (calcular gradientes)\n",
    "  loss.backward()\n",
    "\n",
    "  #update (atualizar os pesos)\n",
    "  optimizer.step()\n",
    "\n",
    "  if (epoch+1)%10 == 0:\n",
    "      print(\"===============================\")\n",
    "      print('Epoch: ', epoch)\n",
    "      print('Custo: {:.20f}'.format(loss.item())) \n",
    "      print('m: {:.5f}'.format(model.Linear.weight.data.detach().item()))\n",
    "      print('m (gradiente): {:.5f}'.format(model.Linear.weight.grad.detach().item()))\n",
    "      print('b: {:.5f}'.format(model.Linear.bias.data.detach().item()))\n",
    "      print('b (gradiente): {:.5f}'.format(model.Linear.bias.grad.detach().item()))\n",
    "     \n",
    "  #limpar o otimizador\n",
    "  optimizer.zero_grad()\n"
   ]
  },
  {
   "cell_type": "code",
   "execution_count": 10,
   "metadata": {},
   "outputs": [
    {
     "name": "stdout",
     "output_type": "stream",
     "text": [
      "GRÁFICO DA FUNÇÃO DE CUSTO\n"
     ]
    },
    {
     "data": {
      "image/png": "[encoded data removed]",
      "text/plain": [
       "<Figure size 432x288 with 1 Axes>"
      ]
     },
     "metadata": {
      "needs_background": "light"
     },
     "output_type": "display_data"
    },
    {
     "name": "stdout",
     "output_type": "stream",
     "text": [
      "x: 2.00 | ŷ: 0.32 |  reprovado\n",
      "x: 3.00 | ŷ: 0.44 |  reprovado\n",
      "x: 6.00 | ŷ: 0.78 |  aprovado\n",
      "x: 7.00 | ŷ: 0.85 |  aprovado\n",
      "x: 8.00 | ŷ: 0.90 |  aprovado\n"
     ]
    }
   ],
   "source": [
    "# PLOTANDO O GRÁFICO DA FUNÇÃO DE CUSTO\n",
    "print(\"GRÁFICO DA FUNÇÃO DE CUSTO\")\n",
    "plt.plot(contador_custo, 'b')\n",
    "plt.show()\n",
    "\n",
    "\"\"\"#Fazer a predição\"\"\"\n",
    "\n",
    "# fazer predição de teste\n",
    "teste = np.array([2, 3, 6, 7, 8])\n",
    "t_teste = torch.from_numpy(teste.astype(np.float32))\n",
    "t_teste = t_teste.view(t_teste.shape[0], 1)\n",
    "\n",
    "with torch.no_grad():\n",
    "  predicoes = model(t_teste)\n",
    "  for x, y in zip(t_teste, predicoes):\n",
    "    #definindo o cutoff / threshold\n",
    "    status = \"\"\n",
    "    if (y >= 0.7):\n",
    "      status = \"aprovado\"\n",
    "    else:\n",
    "      status = \"reprovado\"\n",
    "    print ('x: {:.2f} | ŷ: {:.2f} | '.format(x.detach().item(),y.detach().item()), status)"
   ]
  },
  {
   "cell_type": "code",
   "execution_count": null,
   "metadata": {},
   "outputs": [],
   "source": []
  }
 ],
 "metadata": {
  "kernelspec": {
   "display_name": "Python 3",
   "language": "python",
   "name": "python3"
  },
  "language_info": {
   "codemirror_mode": {
    "name": "ipython",
    "version": 3
   },
   "file_extension": ".py",
   "mimetype": "text/x-python",
   "name": "python",
   "nbconvert_exporter": "python",
   "pygments_lexer": "ipython3",
   "version": "3.6.9"
  }
 },
 "nbformat": 4,
 "nbformat_minor": 4
}
